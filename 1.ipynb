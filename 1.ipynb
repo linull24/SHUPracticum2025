{
 "cells": [
  {
   "cell_type": "markdown",
   "id": "0",
   "metadata": {},
   "source": [
    "# 计算思维实训\n",
    "24123205 李林\n",
    "\n",
    "SHUCES CS\n"
   ]
  },
  {
   "cell_type": "markdown",
   "id": "1",
   "metadata": {},
   "source": [
    "# 环境配置\n",
    "本次使用uv环境。请检查您的环境。"
   ]
  },
  {
   "cell_type": "code",
   "execution_count": null,
   "id": "2",
   "metadata": {},
   "outputs": [],
   "source": [
    "!uv sync"
   ]
  },
  {
   "cell_type": "code",
   "execution_count": null,
   "id": "3",
   "metadata": {},
   "outputs": [],
   "source": [
    "import sys\n",
    "print(sys.executable)"
   ]
  },
  {
   "cell_type": "code",
   "execution_count": null,
   "id": "4",
   "metadata": {},
   "outputs": [],
   "source": [
    "import networkx as nx\n",
    "import matplotlib.pyplot as plt\n",
    "import numpy as np\n",
    "import random\n",
    "import os\n",
    "from scipy import stats\n"
   ]
  },
  {
   "cell_type": "markdown",
   "id": "5",
   "metadata": {},
   "source": [
    "##  Networkx初次尝试\n",
    "This part is  following the [official tutorial](https://networkx.org/documentation/stable/tutorial.html).[1]"
   ]
  },
  {
   "cell_type": "code",
   "execution_count": null,
   "id": "6",
   "metadata": {},
   "outputs": [],
   "source": [
    "# Create a graph\n",
    "G0 = nx.Graph()\n",
    "G0.add_node(1)\n",
    "G0.add_nodes_from([(4, {\"color\": \"red\"}), (5, {\"color\": \"green\"})])\n",
    "print(G0)\n",
    "# importing\n",
    "H0 = nx.path_graph(10)\n",
    "G0.add_nodes_from(H0)\n",
    "print(G0)\n",
    "del G0,H0"
   ]
  },
  {
   "cell_type": "code",
   "execution_count": null,
   "id": "7",
   "metadata": {},
   "outputs": [],
   "source": [
    "# Another official example\n",
    "G = nx.Graph()\n",
    "G.add_edges_from([(1, 2), (1, 3)])\n",
    "G.add_node(1)\n",
    "G.add_edge(1, 2)\n",
    "G.add_node(\"spam\")        # adds node \"spam\"\n",
    "G.add_nodes_from(\"spam\")  # adds 4 nodes: 's', 'p', 'a', 'm'\n",
    "G.add_edge(3, 'm')\n",
    "print(G.number_of_nodes())\n",
    "# manuall check the network\n",
    "print(list(G.nodes))\n",
    "print(list(G.edges))\n",
    "print(list(G.adj[1]) ) # or list(G.neighbors(1))\n",
    "print(G.degree[1])  # the number of edges incident to 1\n",
    "# removing\n",
    "G.remove_node(2)\n",
    "G.remove_nodes_from(\"spam\")\n",
    "print(list(G.nodes))\n",
    "del G"
   ]
  },
  {
   "cell_type": "code",
   "execution_count": null,
   "id": "8",
   "metadata": {},
   "outputs": [],
   "source": [
    "# File saving & reading\n",
    "G = nx.erdos_renyi_graph(50, 0.15)\n",
    "filename = \"./G.edgelist\"\n",
    "nx.write_edgelist(G, filename,data=False )\n",
    "mygraph = nx.read_edgelist(filename ,nodetype=int)\n",
    "print(list(mygraph.edges))\n",
    "os.remove(filename)\n",
    "del G,mygraph"
   ]
  },
  {
   "cell_type": "code",
   "execution_count": null,
   "id": "9",
   "metadata": {},
   "outputs": [],
   "source": [
    "# Drawing\n",
    "G = nx.erdos_renyi_graph(50, 0.1)\n",
    "nx.draw(G, with_labels=False, font_weight='normal')\n"
   ]
  },
  {
   "cell_type": "markdown",
   "id": "10",
   "metadata": {},
   "source": [
    "# 生成10万个节点的无尺度网络\n",
    "## 无尺度网络的定义\n",
    "> 在网络理论中，无尺度网络（Scale-free network，或称无标度网络）是带有一类特性的复杂网络，其典型特征是在网络中的大部分节点只和很少节点连接，而有极少的节点与非常多的节点连接。这种关键的节点（称为“枢纽”或“集散节点”）的存在使得无尺度网络对意外故障有强大的承受能力，但面对协同性攻击时则显得脆弱。现实中的许多网络都带有无尺度的特性，例如因特网、金融系统网络、社会人际网络等等[2]。\n",
    ">\n",
    "## 无标度网络的生成\n",
    "无标度网络的生成主要Price模型和衍生的Barabási-Albert 模型。[3]\n",
    "1. Price模型\n",
    "\n",
    "Price模型是从研究以科学论文的引文网络中产生的。受到Herbert Simon的论文[4]的影响,Price命名为cumulative advantage。由于是论文引用模型，所以是单向图。\n",
    "\n",
    "2. Barabási-Albert 模型\n",
    "\n",
    "因为price模型中涉及到很多单向图的概念，为了简化讨论，这里描述Barabási-Albert模型。二者独立发现了这个模型。[5]\n",
    "对于节点$i$连接到其他节点的概率$k_I$:\n",
    "$$\n",
    "\\Pi(k_i)=\\frac{k_i}{\\sum_J k_J}\n",
    "$$\n",
    "而对于度而言，如果看作连续的过程，有\n",
    "$$\n",
    "\\dfrac{dk_i}{dt} = \\dfrac{k_i}{2t}\n",
    "$$\n",
    "笔者会从简单的代码实现开始，然后逐渐优化。\n"
   ]
  },
  {
   "cell_type": "code",
   "execution_count": null,
   "id": "11",
   "metadata": {},
   "outputs": [],
   "source": [
    "def manualG(n=1000, m=3, seed=114514):\n",
    "    \n",
    "    random.seed(seed)\n",
    "    G = nx.complete_graph(m)\n",
    "    degrees = [G.degree(i) for i in range(m)]\n",
    "    total_steps = n - m\n",
    "    print_interval = max(1, total_steps // 10000)\n",
    "    for new_node in range(m, n):\n",
    "        targets = set()\n",
    "        while len(targets) < m:\n",
    "            chosen = random.choices(range(new_node), weights=degrees, k=1)[0]\n",
    "            targets.add(chosen) \n",
    "        G.add_node(new_node)\n",
    "        for t in targets:\n",
    "            G.add_edge(new_node, t)\n",
    "            degrees[t] += 1  \n",
    "        degrees.append(m)\n",
    "        current_step = new_node - m + 1\n",
    "        if current_step % print_interval == 0 or current_step == total_steps:\n",
    "            percent = 100 * current_step / total_steps\n",
    "            print(f\"\\rProcess: {percent:6.2f}%\", end='', flush=True)\n",
    "    print()  \n",
    "    return G\n",
    "N = 1e4\n",
    "G = manualG(int(N), 5, 114514)"
   ]
  },
  {
   "cell_type": "markdown",
   "id": "12",
   "metadata": {},
   "source": [
    "可以看到这样的代码效率很低。尝试使用numpy进行向量化优化"
   ]
  },
  {
   "cell_type": "code",
   "execution_count": null,
   "id": "13",
   "metadata": {},
   "outputs": [],
   "source": [
    "def manualGuseNP(n=1000, m=3, seed=114514):\n",
    "    import numpy as np\n",
    "    import networkx as nx\n",
    "    rng = np.random.default_rng(seed)\n",
    "    G = nx.complete_graph(m)\n",
    "    degrees = np.array([G.degree(i) for i in range(m)], dtype=np.float64)\n",
    "    total_steps = n - m\n",
    "    print_interval = max(1, total_steps // 10000)\n",
    "    for new_node in range(m, n):\n",
    "        targets = set()\n",
    "        while len(targets) < m:\n",
    "            prob = degrees[:new_node] / degrees[:new_node].sum()\n",
    "            chosen = rng.choice(new_node, p=prob)\n",
    "            targets.add(chosen)\n",
    "        G.add_node(new_node)\n",
    "        for t in targets:\n",
    "            G.add_edge(new_node, t)\n",
    "            degrees[t] += 1\n",
    "        degrees = np.append(degrees, m)\n",
    "        current_step = new_node - m + 1\n",
    "        if current_step % print_interval == 0 or current_step == total_steps:\n",
    "            percent = 100 * current_step / total_steps\n",
    "            print(f\"\\rProcess: {percent:6.2f}%\", end='', flush=True)\n",
    "    print()\n",
    "    return G\n",
    "\n",
    "N = 1e4\n",
    "G = manualGuseNP(int(N), 5, 114514)\n"
   ]
  },
  {
   "cell_type": "markdown",
   "id": "14",
   "metadata": {},
   "source": [
    "对比官方的实现:"
   ]
  },
  {
   "cell_type": "code",
   "execution_count": null,
   "id": "15",
   "metadata": {},
   "outputs": [],
   "source": [
    "G = nx.barabasi_albert_graph(1e4, 5, seed=114514)"
   ]
  },
  {
   "cell_type": "markdown",
   "id": "16",
   "metadata": {},
   "source": [
    "## 对比官方的代码进行优化\n",
    "1. 计算权重\n",
    "   ```\n",
    "   prob = degrees[:new_node] / degrees[:new_node].sum()\n",
    "   chosen = rng.choice(new_node, p=prob)\n",
    "   ```\n",
    "   每次都要遍历当前所有节点，但查看官方的release中\n",
    "   ```\n",
    "   repeated_nodes = [v for v, d in G.degree() for _ in range(d)]\n",
    "   targets = random.sample(repeated_nodes, m)\n",
    "   ```\n",
    "   构造一个列表，其中每个节点v 重复出现 deg(v) 次。此时，从该列表中均匀随机采样一个元素，等价于按度数进行偏好依附。\n",
    "\n",
    "2. 增量维护\n",
    "   ```\n",
    "   degrees[t] += 1\n",
    "   degrees.append(m)\n",
    "   ```\n",
    "   每次更新后需重新计算整个概率分布，但官方实现中\n",
    "   ```\n",
    "   repeated_nodes.extend(targets)\n",
    "   repeated_nodes.extend([source] * m)\n",
    "   ```\n",
    "   仅通过简单扩展列表维护权重信息，避免全量重算。\n",
    "\n",
    "3. 采样去重\n",
    "   ```\n",
    "   targets = set()\n",
    "   while len(targets) < m:\n",
    "       chosen = rng.choice(new_node, p=prob)\n",
    "       targets.add(chosen)\n",
    "   ```\n",
    "   循环可能导致多次重复采样，而官方实现中\n",
    "   ```\n",
    "   targets = random.sample(repeated_nodes, m)\n",
    "   ```\n",
    "   一次调用直接获得m个无重复目标节点。\n",
    "\n",
    "4. 时间复杂度\n",
    "   ```\n",
    "   total_steps = n - m\n",
    "   for new_node in range(m, n):\n",
    "   ```\n",
    "   每步O(n)导致整体O(n²)复杂度，但官方实现\n",
    "   ```\n",
    "   while source < n:\n",
    "   ```\n",
    "   每步O(m)使整体复杂度降至O(nm)，当m为常数时接近线性。"
   ]
  },
  {
   "cell_type": "code",
   "execution_count": null,
   "id": "17",
   "metadata": {},
   "outputs": [],
   "source": [
    "def manualGuseNP(n=1000, m=3, seed=114514):\n",
    "    rng = np.random.default_rng(seed)\n",
    "    G = nx.complete_graph(m)\n",
    "    repeated_nodes = []\n",
    "    for i in range(m):\n",
    "        repeated_nodes.extend([i] * G.degree(i))\n",
    "    total_steps = n - m\n",
    "    print_interval = max(1, total_steps // 10000)\n",
    "    for new_node in range(m, n):\n",
    "        targets = set()\n",
    "        while len(targets) < m:\n",
    "            idx = rng.integers(0, len(repeated_nodes))\n",
    "            chosen = repeated_nodes[idx]\n",
    "            targets.add(chosen)\n",
    "        G.add_node(new_node)\n",
    "        for t in targets:\n",
    "            G.add_edge(new_node, t)\n",
    "            repeated_nodes.append(t)\n",
    "        repeated_nodes.extend([new_node] * m)\n",
    "        current_step = new_node - m + 1\n",
    "        if current_step % print_interval == 0 or current_step == total_steps:\n",
    "            percent = 100 * current_step / total_steps\n",
    "            print(f\"\\rProcess: {percent:6.2f}%\", end='', flush=True)\n",
    "    print()\n",
    "    return G\n",
    "\n",
    "N = 1e4\n",
    "G = manualGuseNP(int(N), 5, 114514)"
   ]
  },
  {
   "cell_type": "markdown",
   "id": "18",
   "metadata": {},
   "source": [
    "## Barabási-Albert 模型的扩展\n",
    "Barabási-Albert 模型中m是固定的，但是这样不符合常理。NetworkX官方提供了`extended_barabasi_albert_graph`的实现。\n"
   ]
  },
  {
   "cell_type": "code",
   "execution_count": null,
   "id": "19",
   "metadata": {},
   "outputs": [],
   "source": [
    "N=100\n",
    "G = nx.extended_barabasi_albert_graph(N,3,0.3,0.3)\n",
    "nx.draw(G, with_labels=False, font_weight='normal')"
   ]
  },
  {
   "cell_type": "markdown",
   "id": "20",
   "metadata": {},
   "source": [
    "### 生成并保存网络"
   ]
  },
  {
   "cell_type": "code",
   "execution_count": null,
   "id": "21",
   "metadata": {},
   "outputs": [],
   "source": [
    "Ntest=int(1000)\n",
    "Gtest = nx.extended_barabasi_albert_graph(Ntest,3,0.2,0.1)\n",
    "filename = \"./Gtest.edgelist\"\n",
    "nx.write_edgelist(Gtest, filename, data=False)\n"
   ]
  },
  {
   "cell_type": "code",
   "execution_count": null,
   "id": "22",
   "metadata": {},
   "outputs": [],
   "source": [
    "N=int(1e4)\n",
    "G = nx.extended_barabasi_albert_graph(N, 5, 0.1,0.1)"
   ]
  },
  {
   "cell_type": "markdown",
   "id": "23",
   "metadata": {},
   "source": [
    "但是使用extended的BA算法，发现速度过慢到难以接受的程度。继续通过IDE的快速查看实现功能进行跳转，检查NetworkX的实现：\n",
    "```python\n",
    "#……\n",
    "eligible_nodes = [nd for nd, deg in G.degree() if deg < clique_degree]\n",
    "#……\n",
    "nbr_nodes = list(G[node])\n",
    "#……\n",
    "dest_node = seed.choice([nd for nd in attachment_preference if nd not in prohibited_nodes])\n",
    "#……\n",
    "attachment_preference.remove(src_node)\n",
    "```\n",
    "在每个节点，重新计算了`eligible_nodes`。在这些操作中，由于动态的变化导致不能一次性生成一个持续可用的节点相邻列表。\n",
    "\n",
    "### 运用自动机理论进行解释\n",
    "\n",
    "\n",
    "1. 经典 BA 模型\n",
    "\n",
    "在经典 BA 模型中，系统的状态可以用度数序列 $\\mathbf{d}(t) = (d_1(t), d_2(t), \\dots, d_{n(t)}(t))$ 完全描述。\n",
    "\n",
    "转移概率仅依赖当前状态：\n",
    "$$\n",
    "P(\\mathbf{d}(t+1) | \\mathbf{d}(t), \\mathbf{d}(t-1), \\dots) = P(\\mathbf{d}(t+1) | \\mathbf{d}(t))\n",
    "$$\n",
    "\n",
    "具体地，新节点 $v_{t+1}$ 连接到节点 $i$ 的概率为：\n",
    "$$\n",
    "\\Pi(i) = \\frac{d_i(t)}{\\sum_{j=1}^{t} d_j(t)} = \\frac{d_i(t)}{2mt}\n",
    "$$\n",
    "\n",
    "\n",
    "\n",
    "2. 扩展 BA 模型的非马尔可夫性\n",
    "\n",
    "\n",
    "扩展 BA 引入了两种额外操作，破坏了马尔可夫性：\n",
    "\n",
    "边重连操作 (概率 $q$)\n",
    "\n",
    "当重连边 $(u,v)$ 时，选择新目标 $w$ 的概率为：\n",
    "$$\n",
    "\\Pi(w | u, v, \\mathcal{G}t) = \\begin{cases}\n",
    "\\frac{d_w(t)}{\\sum{k \\notin N(u) \\cup {u}} d_k(t)} & \\text{if } w \\notin N(u) \\cup {u} \\\n",
    "0 & \\text{otherwise}\n",
    "\\end{cases}\n",
    "$$\n",
    "\n",
    "新增边操作 (概率 $p$)\n",
    "\n",
    "选择源节点 $u$ 和目标节点 $v$ 的联合概率：\n",
    "$$\n",
    "P(u,v | \\mathcal{G}_t) = P(u | \\mathcal{G}_t) \\cdot P(v | u, \\mathcal{G}_t)\n",
    "$$\n",
    "其中：\n",
    "$$\n",
    "P(u | \\mathcal{G}_t) \\propto \\mathbb{I}[d_u(t) < t-1] \\quad \\text{(度数未饱和)}\n",
    "$$\n",
    "$$\n",
    "P(v | u, \\mathcal{G}_t) \\propto d_v(t) \\cdot \\mathbb{I}[v \\notin N(u) \\cup {u}]\n",
    "$$\n",
    "\n",
    "3. 状态空间的维度\n",
    "\n",
    "经典 BA：状态空间维度 = $n(t)$（度数序列）\n",
    "\n",
    "扩展 BA：状态空间需要包含：\n",
    "\n",
    "\n",
    "度数序列 $\\mathbf{d}(t)$\n",
    "\n",
    "邻接矩阵 $\\mathbf{A}(t) = [a_{ij}(t)]$，其中 $a_{ij}(t) = \\mathbb{I}[(i,j) \\in E(t)]$\n",
    "\n",
    "\n",
    "因此状态空间维度从 $O(n)$ 膨胀到 $O(n^2)$。\n",
    "\n",
    "4. 数学复杂度对比\n",
    "\n",
    "\n",
    "经典 BA\n",
    "\n",
    "状态转移：$O(m)$ 时间\n",
    "\n",
    "状态表示：$O(t)$ 空间（repeated_nodes 数组）\n",
    "\n",
    "总复杂度：$O(nm)$\n",
    "\n",
    "\n",
    "扩展 BA：\n",
    "\n",
    "状态转移：$O(n + m)$ 时间（需要重新计算 eligibility）\n",
    "\n",
    "状态表示：$O(n^2)$ 隐式空间（完整图结构）\n",
    "\n",
    "总复杂度：$O(n^2m)$\n"
   ]
  },
  {
   "cell_type": "markdown",
   "id": "24",
   "metadata": {},
   "source": [
    "不妨碍网络的性质，仍然使用传统的模型"
   ]
  },
  {
   "cell_type": "code",
   "execution_count": null,
   "id": "25",
   "metadata": {},
   "outputs": [],
   "source": [
    "N=int(1e6)\n",
    "G = nx.barabasi_albert_graph(1e6, 5, seed=114514)\n",
    "filename = \"./G.edgelist\"\n",
    "nx.write_edgelist(G, filename, data=False)"
   ]
  },
  {
   "cell_type": "markdown",
   "id": "26",
   "metadata": {},
   "source": [
    "# 统计度分布图\n"
   ]
  },
  {
   "cell_type": "code",
   "execution_count": null,
   "id": "27",
   "metadata": {},
   "outputs": [],
   "source": [
    "degree_hist_test = nx.degree_histogram(Gtest)\n",
    "print(degree_hist_test)"
   ]
  },
  {
   "cell_type": "code",
   "execution_count": null,
   "id": "28",
   "metadata": {},
   "outputs": [],
   "source": [
    "degree_hist = nx.degree_histogram(G)"
   ]
  },
  {
   "cell_type": "markdown",
   "id": "29",
   "metadata": {},
   "source": [
    "查看nx的实现\n",
    "```\n",
    "counts = Counter(d for n, d in G.degree())\n",
    "    return [counts.get(i, 0) for i in range(max(counts) + 1 if counts else 0)]\n",
    "```\n",
    "Counter是Python原生的组件，通过缓存机制高校计数。解释型语言高效运行必须熟悉语言本身。"
   ]
  },
  {
   "cell_type": "code",
   "execution_count": null,
   "id": "30",
   "metadata": {},
   "outputs": [],
   "source": [
    "\n",
    "def drawPowerLaw(degree_hist, min_freq=1, outlier_threshold=2.0):\n",
    "    k = np.arange(len(degree_hist))\n",
    "    freq = np.array(degree_hist)\n",
    "    mask = (freq >= min_freq) & (k > 0)\n",
    "    log_k = np.log(k[mask])\n",
    "    log_freq = np.log(freq[mask])\n",
    "    slope_init, intercept_init, r, p, se = stats.linregress(log_k, log_freq)\n",
    "\n",
    "    fitted_values = intercept_init + slope_init * log_k\n",
    "    residuals = log_freq - fitted_values\n",
    "    residual_std = np.std(residuals)\n",
    "\n",
    "    inlier_mask = np.abs(residuals) <= outlier_threshold * residual_std\n",
    "\n",
    "    log_k_clean = log_k[inlier_mask]\n",
    "    log_freq_clean = log_freq[inlier_mask]\n",
    "\n",
    "    slope, intercept = stats.siegelslopes(log_freq_clean, log_k_clean)\n",
    "    r2 = None\n",
    "\n",
    "    plt.figure(figsize=(10, 6))\n",
    "    plt.scatter(log_k, log_freq, alpha=0.5, label='All points', s=10)\n",
    "    plt.scatter(log_k_clean, log_freq_clean, alpha=0.7, label='Filtered inliers', s=20)\n",
    "    plt.plot(log_k_clean, intercept + slope * log_k_clean, 'r-', \n",
    "             label=f'Fit: slope = {slope:.3f}' + (f', R² = {r2:.3f}' if r2 else ''))\n",
    "    plt.xlabel('log(Degree k)')\n",
    "    plt.ylabel('log(Frequency)')\n",
    "    plt.title('Log-Log Degree Distribution with Outlier Filtering')\n",
    "    plt.legend()\n",
    "    plt.grid(True, ls='--', alpha=0.5)\n",
    "    plt.tight_layout()\n",
    "    plt.show()\n",
    "\n",
    "drawPowerLaw(degree_hist_test, min_freq=3, outlier_threshold=2.0)\n"
   ]
  },
  {
   "cell_type": "code",
   "execution_count": null,
   "id": "31",
   "metadata": {},
   "outputs": [],
   "source": [
    "drawPowerLaw(degree_hist, min_freq=3, outlier_threshold=2.0)\n"
   ]
  },
  {
   "cell_type": "markdown",
   "id": "32",
   "metadata": {},
   "source": [
    "# 平均最短路径"
   ]
  },
  {
   "cell_type": "code",
   "execution_count": null,
   "id": "33",
   "metadata": {},
   "outputs": [],
   "source": [
    "avgShortestPath = nx.average_shortest_path_length(Gtest)\n",
    "print(f\"{avgShortestPath:.3f}\")"
   ]
  },
  {
   "cell_type": "markdown",
   "id": "34",
   "metadata": {},
   "source": [
    "但是当处理1e5 这种数量级，会效率很低。尝试使用MonteCarlo方法"
   ]
  },
  {
   "cell_type": "code",
   "execution_count": null,
   "id": "35",
   "metadata": {},
   "outputs": [],
   "source": [
    "def avgShortestPathMonteCarlo(G,  tolerance=0.01, max_samples=100000):\n",
    "    nodes = list(G.nodes())\n",
    "    distances = []\n",
    "    prev_mean = float('inf')\n",
    "    \n",
    "    for i in range(max_samples):\n",
    "        source = random.choice(nodes)\n",
    "        target = random.choice(nodes)\n",
    "        while target == source:\n",
    "            target = random.choice(nodes)\n",
    "        \n",
    "        dist = nx.shortest_path_length(G, source=source, target=target)\n",
    "        distances.append(dist)\n",
    "        \n",
    "        if len(distances) > 100:\n",
    "            current_mean = sum(distances) / len(distances)\n",
    "            if abs(current_mean - prev_mean) < tolerance:\n",
    "                break\n",
    "            prev_mean = current_mean\n",
    "    \n",
    "    return sum(distances) / len(distances), len(distances)\n",
    "\n",
    "TestavgShortestPath, Testsamples = avgShortestPathMonteCarlo(Gtest)\n",
    "print(f\"average shortest path length: {TestavgShortestPath:.3f}\")\n",
    "print(f\"samples: {Testsamples}\")"
   ]
  },
  {
   "cell_type": "code",
   "execution_count": null,
   "id": "36",
   "metadata": {},
   "outputs": [],
   "source": [
    "ShortestPath, samples = avgShortestPathMonteCarlo(G)\n",
    "print(f\"average shortest path length: {avgShortestPath:.3f}\")\n",
    "print(f\"samples: {samples}\")"
   ]
  },
  {
   "cell_type": "markdown",
   "id": "37",
   "metadata": {},
   "source": [
    "# 聚类系数"
   ]
  },
  {
   "cell_type": "code",
   "execution_count": null,
   "id": "38",
   "metadata": {},
   "outputs": [],
   "source": [
    "def avgClusteringMonteCarlo(G, tolerance=10e-6, max_samples=100000):\n",
    "    nodes = list(G.nodes())\n",
    "    clustering_coeffs = []\n",
    "    prev_mean = float('inf')\n",
    "    \n",
    "    for i in range(max_samples):\n",
    "        node = random.choice(nodes)\n",
    "        clustering = nx.clustering(G, node)\n",
    "        clustering_coeffs.append(clustering)\n",
    "        \n",
    "        if len(clustering_coeffs) > 100000:\n",
    "            current_mean = sum(clustering_coeffs) / len(clustering_coeffs)\n",
    "            if abs(current_mean - prev_mean) < tolerance:\n",
    "                break\n",
    "            prev_mean = current_mean\n",
    "    \n",
    "    return sum(clustering_coeffs) / len(clustering_coeffs), len(clustering_coeffs)\n",
    "# G = nx.barabasi_albert_graph(1e4, 5, seed=114514)\n",
    "# Gtest = nx.barabasi_albert_graph(1e4, 5, seed=114514)\n",
    "TestavgClustering, Testclustsamples = avgClusteringMonteCarlo(Gtest)\n",
    "print(f\"clustering coefficient: {TestavgClustering:.8f}\")\n",
    "print(f\"samples: {Testclustsamples}\")"
   ]
  },
  {
   "cell_type": "code",
   "execution_count": null,
   "id": "39",
   "metadata": {},
   "outputs": [],
   "source": [
    "avgClustering, clustsamples = avgClusteringMonteCarlo(G)\n",
    "print(f\"clustering coefficient: {avgClustering:.8f}\")\n",
    "print(f\"samples: {clustsamples}\")"
   ]
  },
  {
   "cell_type": "markdown",
   "id": "40",
   "metadata": {},
   "source": [
    "# 总结\n",
    "本次计算思维实训通过NetworkX实现了复杂网络建模与分析。Python的简洁语法和NetworkX的直观接口便于快速实现理论模型，但在处理十万级节点时，纯Python实现的性能瓶颈明显。手动实现偏好依附机制时，原始循环结构导致O(n²)时间复杂度，效率低下。\n",
    "\n",
    "优化过程包含三方面：一是算法层面，参考NetworkX官方实现的\"重复节点列表\"技巧，通过空间换时间将采样复杂度降至常数级；二是利用NumPy等C/C++后端库进行向量化操作；三是针对全局指标计算采用蒙特卡洛抽样，以精度换时间。同时，分析nx.degree_histogram发现Counter的哈希与缓存机制对性能至关重要。\n",
    "\n",
    "实训中还发现NetworkX支持后端调度机制，可通过第三方加速库(如GPU后端)进一步提升性能；图生成器的多样性也为后续研究提供了更多选择。本次实训不仅加深了对无尺度网络特性的理解，更强化了大数据场景下算法设计与性能优化的实践能力，认识到Python在科学计算中需结合向量化、算法优化和近似计算策略才能有效处理大规模数据。"
   ]
  },
  {
   "cell_type": "markdown",
   "id": "41",
   "metadata": {},
   "source": [
    "---\n",
    "# 参考文献\n",
    "- [1]NETWORKX. Tutorial — NetworkX 3.4 documentation [EB/OL]. (2024) [2024-06-15]\n",
    "- [2]张皓. 《灌园先生日记》中家族社会网络之分析研究（1927—1932）[D]. 彰化: 国立彰化师范大学历史学研究所, 2024. \n",
    "- [3]NEWMAN M E J. 网络科学引论[M]. 郭世泽, 陈哲, 译. 北京: 电子工业出版社, 2014.\n",
    "- [4]Simon, H. A., On a class of skew distribution functions, Biometrika 42, 425–440 (1955)\n",
    "- [5]ALBERT R, BARABÁSI A L. Statistical mechanics of complex networks[J]. Reviews of Modern Physics, 2002, 74(1): 47–97. DOI:10.1103/RevModPhys.74.47.\n",
    "- [6]李林. 利用Python对于上海大学计算机相关的课程与教师的网络初步分析[R]. 上海: 上海大学, 2024."
   ]
  }
 ],
 "metadata": {
  "kernelspec": {
   "display_name": "shupracticum2025",
   "language": "python",
   "name": "python3"
  },
  "language_info": {
   "codemirror_mode": {
    "name": "ipython",
    "version": 3
   },
   "file_extension": ".py",
   "mimetype": "text/x-python",
   "name": "python",
   "nbconvert_exporter": "python",
   "pygments_lexer": "ipython3",
   "version": "3.12.11"
  }
 },
 "nbformat": 4,
 "nbformat_minor": 5
}
